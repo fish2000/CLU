{
  "cells": [
    {
      "cell_type": "code",
      "source": [
        "import clu"
      ],
      "outputs": [],
      "execution_count": 1,
      "metadata": {
        "collapsed": false,
        "jupyter": {
          "source_hidden": false,
          "outputs_hidden": false
        },
        "nteract": {
          "transient": {
            "deleting": false
          }
        }
      }
    },
    {
      "cell_type": "code",
      "source": [
        "import sys, os"
      ],
      "outputs": [],
      "execution_count": 2,
      "metadata": {
        "collapsed": false,
        "jupyter": {
          "source_hidden": false,
          "outputs_hidden": false
        },
        "nteract": {
          "transient": {
            "deleting": false
          }
        },
        "outputExpanded": true
      }
    },
    {
      "cell_type": "code",
      "source": [
        "from clu import all"
      ],
      "outputs": [],
      "execution_count": 4,
      "metadata": {
        "collapsed": false,
        "jupyter": {
          "source_hidden": false,
          "outputs_hidden": false
        },
        "nteract": {
          "transient": {
            "deleting": false
          }
        }
      }
    },
    {
      "cell_type": "code",
      "source": [
        "from pprint import pprint"
      ],
      "outputs": [],
      "execution_count": 5,
      "metadata": {
        "collapsed": false,
        "jupyter": {
          "source_hidden": false,
          "outputs_hidden": false
        },
        "nteract": {
          "transient": {
            "deleting": false
          }
        }
      }
    },
    {
      "cell_type": "code",
      "source": [
        "pprint(tuple(all.clu_inline_tests()))"
      ],
      "outputs": [
        {
          "output_type": "stream",
          "name": "stdout",
          "text": [
            "('clu.config.env',\n",
            " 'clu.config.fieldtypes',\n",
            " 'clu.config.keymap',\n",
            " 'clu.config.ns',\n",
            " 'clu.config.proxy',\n",
            " 'clu.config.settings',\n",
            " 'clu.dicts',\n",
            " 'clu.extending',\n",
            " 'clu.importing',\n",
            " 'clu.typespace.namespace',\n",
            " 'clu.version.git_version')\n"
          ]
        }
      ],
      "execution_count": 7,
      "metadata": {
        "collapsed": false,
        "jupyter": {
          "source_hidden": false,
          "outputs_hidden": false
        },
        "nteract": {
          "transient": {
            "deleting": false
          }
        }
      }
    },
    {
      "cell_type": "code",
      "source": [
        "import runpy"
      ],
      "outputs": [],
      "execution_count": 8,
      "metadata": {
        "collapsed": false,
        "jupyter": {
          "source_hidden": false,
          "outputs_hidden": false
        },
        "nteract": {
          "transient": {
            "deleting": false
          }
        }
      }
    },
    {
      "cell_type": "code",
      "source": [
        "tests = tuple(all.clu_inline_tests())"
      ],
      "outputs": [],
      "execution_count": 9,
      "metadata": {
        "collapsed": false,
        "jupyter": {
          "source_hidden": false,
          "outputs_hidden": false
        },
        "nteract": {
          "transient": {
            "deleting": false
          }
        }
      }
    },
    {
      "cell_type": "code",
      "source": [
        "idx = 0"
      ],
      "outputs": [],
      "execution_count": 10,
      "metadata": {
        "collapsed": false,
        "jupyter": {
          "source_hidden": false,
          "outputs_hidden": false
        },
        "nteract": {
          "transient": {
            "deleting": false
          }
        }
      }
    },
    {
      "cell_type": "code",
      "source": [
        "run_result = runpy.run_module(tests[idx])"
      ],
      "outputs": [
        {
          "output_type": "stream",
          "name": "stderr",
          "text": [
            "/usr/local/Cellar/python/3.7.6_1/Frameworks/Python.framework/Versions/3.7/lib/python3.7/runpy.py:125: RuntimeWarning: 'clu.config.env' found in sys.modules after import of package 'clu.config', but prior to execution of 'clu.config.env'; this may result in unpredictable behaviour\n",
            "  warn(RuntimeWarning(msg))\n"
          ]
        }
      ],
      "execution_count": 11,
      "metadata": {
        "collapsed": false,
        "jupyter": {
          "source_hidden": false,
          "outputs_hidden": false
        },
        "nteract": {
          "transient": {
            "deleting": false
          }
        }
      }
    },
    {
      "cell_type": "code",
      "source": [
        "run_result"
      ],
      "outputs": [
        {
          "output_type": "execute_result",
          "execution_count": 12,
          "data": {
            "text/plain": [
              "{'__name__': 'clu.config.env',\n",
              " '__file__': '/usr/local/lib/python3.7/site-packages/clu/config/env.py',\n",
              " '__cached__': '/usr/local/lib/python3.7/site-packages/clu/config/__pycache__/env.cpython-37.pyc',\n",
              " '__doc__': None,\n",
              " '__loader__': <_frozen_importlib_external.SourceFileLoader at 0x113f34f90>,\n",
              " '__package__': 'clu.config',\n",
              " '__spec__': ModuleSpec(name='clu.config.env', loader=<_frozen_importlib_external.SourceFileLoader object at 0x113f34f90>, origin='/usr/local/lib/python3.7/site-packages/clu/config/env.py'),\n",
              " '__builtins__': {'__name__': 'builtins',\n",
              "  '__doc__': \"Built-in functions, exceptions, and other objects.\\n\\nNoteworthy: None is the `nil' object; Ellipsis represents `...' in slices.\",\n",
              "  '__package__': '',\n",
              "  '__loader__': _frozen_importlib.BuiltinImporter,\n",
              "  '__spec__': ModuleSpec(name='builtins', loader=<class '_frozen_importlib.BuiltinImporter'>),\n",
              "  '__build_class__': <function __build_class__>,\n",
              "  '__import__': <function __import__>,\n",
              "  'abs': <function abs(x, /)>,\n",
              "  'all': <function all(iterable, /)>,\n",
              "  'any': <function any(iterable, /)>,\n",
              "  'ascii': <function ascii(obj, /)>,\n",
              "  'bin': <function bin(number, /)>,\n",
              "  'breakpoint': <function breakpoint>,\n",
              "  'callable': <function callable(obj, /)>,\n",
              "  'chr': <function chr(i, /)>,\n",
              "  'compile': <function compile(source, filename, mode, flags=0, dont_inherit=False, optimize=-1)>,\n",
              "  'delattr': <function delattr(obj, name, /)>,\n",
              "  'dir': <function dir>,\n",
              "  'divmod': <function divmod(x, y, /)>,\n",
              "  'eval': <function eval(source, globals=None, locals=None, /)>,\n",
              "  'exec': <function exec(source, globals=None, locals=None, /)>,\n",
              "  'format': <function format(value, format_spec='', /)>,\n",
              "  'getattr': <function getattr>,\n",
              "  'globals': <function globals()>,\n",
              "  'hasattr': <function hasattr(obj, name, /)>,\n",
              "  'hash': <function hash(obj, /)>,\n",
              "  'hex': <function hex(number, /)>,\n",
              "  'id': <function id(obj, /)>,\n",
              "  'input': <bound method Kernel.raw_input of <ipykernel.ipkernel.IPythonKernel object at 0x10a29afd0>>,\n",
              "  'isinstance': <function isinstance(obj, class_or_tuple, /)>,\n",
              "  'issubclass': <function issubclass(cls, class_or_tuple, /)>,\n",
              "  'iter': <function iter>,\n",
              "  'len': <function len(obj, /)>,\n",
              "  'locals': <function locals()>,\n",
              "  'max': <function max>,\n",
              "  'min': <function min>,\n",
              "  'next': <function next>,\n",
              "  'oct': <function oct(number, /)>,\n",
              "  'ord': <function ord(c, /)>,\n",
              "  'pow': <function pow(x, y, z=None, /)>,\n",
              "  'print': <function print>,\n",
              "  'repr': <function repr(obj, /)>,\n",
              "  'round': <function round(number, ndigits=None)>,\n",
              "  'setattr': <function setattr(obj, name, value, /)>,\n",
              "  'sorted': <function sorted(iterable, /, *, key=None, reverse=False)>,\n",
              "  'sum': <function sum(iterable, start=0, /)>,\n",
              "  'vars': <function vars>,\n",
              "  'None': None,\n",
              "  'Ellipsis': Ellipsis,\n",
              "  'NotImplemented': NotImplemented,\n",
              "  'False': False,\n",
              "  'True': True,\n",
              "  'bool': bool,\n",
              "  'memoryview': memoryview,\n",
              "  'bytearray': bytearray,\n",
              "  'bytes': bytes,\n",
              "  'classmethod': classmethod,\n",
              "  'complex': complex,\n",
              "  'dict': dict,\n",
              "  'enumerate': enumerate,\n",
              "  'filter': filter,\n",
              "  'float': float,\n",
              "  'frozenset': frozenset,\n",
              "  'property': property,\n",
              "  'int': int,\n",
              "  'list': list,\n",
              "  'map': map,\n",
              "  'object': object,\n",
              "  'range': range,\n",
              "  'reversed': reversed,\n",
              "  'set': set,\n",
              "  'slice': slice,\n",
              "  'staticmethod': staticmethod,\n",
              "  'str': str,\n",
              "  'super': super,\n",
              "  'tuple': tuple,\n",
              "  'type': type,\n",
              "  'zip': zip,\n",
              "  '__debug__': True,\n",
              "  'BaseException': BaseException,\n",
              "  'Exception': Exception,\n",
              "  'TypeError': TypeError,\n",
              "  'StopAsyncIteration': StopAsyncIteration,\n",
              "  'StopIteration': StopIteration,\n",
              "  'GeneratorExit': GeneratorExit,\n",
              "  'SystemExit': SystemExit,\n",
              "  'KeyboardInterrupt': KeyboardInterrupt,\n",
              "  'ImportError': ImportError,\n",
              "  'ModuleNotFoundError': ModuleNotFoundError,\n",
              "  'OSError': OSError,\n",
              "  'EnvironmentError': OSError,\n",
              "  'IOError': OSError,\n",
              "  'EOFError': EOFError,\n",
              "  'RuntimeError': RuntimeError,\n",
              "  'RecursionError': RecursionError,\n",
              "  'NotImplementedError': NotImplementedError,\n",
              "  'NameError': NameError,\n",
              "  'UnboundLocalError': UnboundLocalError,\n",
              "  'AttributeError': AttributeError,\n",
              "  'SyntaxError': SyntaxError,\n",
              "  'IndentationError': IndentationError,\n",
              "  'TabError': TabError,\n",
              "  'LookupError': LookupError,\n",
              "  'IndexError': IndexError,\n",
              "  'KeyError': KeyError,\n",
              "  'ValueError': ValueError,\n",
              "  'UnicodeError': UnicodeError,\n",
              "  'UnicodeEncodeError': UnicodeEncodeError,\n",
              "  'UnicodeDecodeError': UnicodeDecodeError,\n",
              "  'UnicodeTranslateError': UnicodeTranslateError,\n",
              "  'AssertionError': AssertionError,\n",
              "  'ArithmeticError': ArithmeticError,\n",
              "  'FloatingPointError': FloatingPointError,\n",
              "  'OverflowError': OverflowError,\n",
              "  'ZeroDivisionError': ZeroDivisionError,\n",
              "  'SystemError': SystemError,\n",
              "  'ReferenceError': ReferenceError,\n",
              "  'MemoryError': MemoryError,\n",
              "  'BufferError': BufferError,\n",
              "  'Warning': Warning,\n",
              "  'UserWarning': UserWarning,\n",
              "  'DeprecationWarning': DeprecationWarning,\n",
              "  'PendingDeprecationWarning': PendingDeprecationWarning,\n",
              "  'SyntaxWarning': SyntaxWarning,\n",
              "  'RuntimeWarning': RuntimeWarning,\n",
              "  'FutureWarning': FutureWarning,\n",
              "  'ImportWarning': ImportWarning,\n",
              "  'UnicodeWarning': UnicodeWarning,\n",
              "  'BytesWarning': BytesWarning,\n",
              "  'ResourceWarning': ResourceWarning,\n",
              "  'ConnectionError': ConnectionError,\n",
              "  'BlockingIOError': BlockingIOError,\n",
              "  'BrokenPipeError': BrokenPipeError,\n",
              "  'ChildProcessError': ChildProcessError,\n",
              "  'ConnectionAbortedError': ConnectionAbortedError,\n",
              "  'ConnectionRefusedError': ConnectionRefusedError,\n",
              "  'ConnectionResetError': ConnectionResetError,\n",
              "  'FileExistsError': FileExistsError,\n",
              "  'FileNotFoundError': FileNotFoundError,\n",
              "  'IsADirectoryError': IsADirectoryError,\n",
              "  'NotADirectoryError': NotADirectoryError,\n",
              "  'InterruptedError': InterruptedError,\n",
              "  'PermissionError': PermissionError,\n",
              "  'ProcessLookupError': ProcessLookupError,\n",
              "  'TimeoutError': TimeoutError,\n",
              "  'open': <function io.open(file, mode='r', buffering=-1, encoding=None, errors=None, newline=None, closefd=True, opener=None)>,\n",
              "  'copyright': Copyright (c) 2001-2019 Python Software Foundation.\n",
              "  All Rights Reserved.\n",
              "  \n",
              "  Copyright (c) 2000 BeOpen.com.\n",
              "  All Rights Reserved.\n",
              "  \n",
              "  Copyright (c) 1995-2001 Corporation for National Research Initiatives.\n",
              "  All Rights Reserved.\n",
              "  \n",
              "  Copyright (c) 1991-1995 Stichting Mathematisch Centrum, Amsterdam.\n",
              "  All Rights Reserved.,\n",
              "  'credits':     Thanks to CWI, CNRI, BeOpen.com, Zope Corporation and a cast of thousands\n",
              "      for supporting Python development.  See www.python.org for more information.,\n",
              "  'license': Type license() to see the full license text,\n",
              "  'help': Type help() for interactive help, or help(object) for help about object.,\n",
              "  '__IPYTHON__': True,\n",
              "  'display': <function IPython.core.display.display(*objs, include=None, exclude=None, metadata=None, transient=None, display_id=None, **kwargs)>,\n",
              "  'get_ipython': <bound method InteractiveShell.get_ipython of <ipykernel.zmqshell.ZMQInteractiveShell object at 0x10a2a7150>>},\n",
              " 'print_function': _Feature((2, 6, 0, 'alpha', 2), (3, 0, 0, 'alpha', 0), 65536),\n",
              " 'clu': <module 'clu' from '/usr/local/lib/python3.7/site-packages/clu/__init__.py'>,\n",
              " 'contextlib': <module 'contextlib' from '/usr/local/Cellar/python/3.7.6_1/Frameworks/Python.framework/Versions/3.7/lib/python3.7/contextlib.py'>,\n",
              " 'copy': <module 'copy' from '/usr/local/Cellar/python/3.7.6_1/Frameworks/Python.framework/Versions/3.7/lib/python3.7/copy.py'>,\n",
              " 'os': <module 'os' from '/usr/local/Cellar/python/3.7.6_1/Frameworks/Python.framework/Versions/3.7/lib/python3.7/os.py'>,\n",
              " 'sys': <module 'sys' (built-in)>,\n",
              " 'APPNAME': 'clu',\n",
              " 'NoDefault': clu.constants.consts.NoDefault,\n",
              " 'KeyMap': clu.config.abc.KeyMap,\n",
              " 'NamespaceWalker': clu.config.abc.NamespaceWalker,\n",
              " 'pack_ns': <function clu.config.ns.pack_ns(key, *namespaces)>,\n",
              " 'prefix_env': <function clu.config.ns.prefix_env(appname, *namespaces)>,\n",
              " 'unpack_env': <function clu.config.ns.unpack_env(envkey)>,\n",
              " 'nskey_to_env': <function clu.config.ns.nskey_to_env(appname, nskey)>,\n",
              " 'tuplize': <function clu.predicates.tuplize(*items)>,\n",
              " 'listify': <function clu.predicates.listify(*items)>,\n",
              " 'iterlen': <function clu.typology.iterlen(iterable)>,\n",
              " 'Exporter': clu.exporting.Exporter,\n",
              " 'exporter': <clu.exporting.Exporter at 0x113f3c770>,\n",
              " 'export': <bound method ExporterBase.export of <clu.exporting.Exporter object at 0x113f3c770>>,\n",
              " 'envwalk': <function clu.config.env.envwalk(appname, mapping)>,\n",
              " 'FrozenEnviron': clu.config.env.FrozenEnviron,\n",
              " 'Environ': clu.config.env.Environ,\n",
              " '__all__': ('envwalk', 'FrozenEnviron', 'Environ'),\n",
              " '__dir__': <function clu.exporting.ExporterBase.dir_function.<locals>.<lambda>()>,\n",
              " 'test': <function clu.config.env.test()>}"
            ]
          },
          "metadata": {}
        }
      ],
      "execution_count": 12,
      "metadata": {
        "collapsed": false,
        "jupyter": {
          "source_hidden": false,
          "outputs_hidden": false
        },
        "nteract": {
          "transient": {
            "deleting": false
          }
        }
      }
    },
    {
      "cell_type": "code",
      "source": [
        "runpy.run_module('clu')['main']()"
      ],
      "outputs": [],
      "execution_count": null,
      "metadata": {
        "collapsed": false,
        "jupyter": {
          "source_hidden": false,
          "outputs_hidden": true
        },
        "nteract": {
          "transient": {
            "deleting": false
          }
        },
        "outputExpanded": true
      }
    },
    {
      "cell_type": "code",
      "source": [
        "runpy.run_module('clu.importing')['test']()"
      ],
      "outputs": [
        {
          "output_type": "stream",
          "name": "stderr",
          "text": [
            "/usr/local/Cellar/python/3.7.6_1/Frameworks/Python.framework/Versions/3.7/lib/python3.7/runpy.py:125: RuntimeWarning: 'clu.importing' found in sys.modules after import of package 'clu', but prior to execution of 'clu.importing'; this may result in unpredictable behaviour\n",
            "  warn(RuntimeWarning(msg))\n"
          ]
        },
        {
          "output_type": "stream",
          "name": "stdout",
          "text": [
            "\n",
            "§ RUNNING PRE-CHECK #1: `show_python_executable(¬)` – “Show the Python executable”\n",
            "----------------------------------------------------------------------------------------------------\n",
            "\n",
            "PYTHON: /usr/local/opt/python/bin/python3.7\n",
            "\n",
            "~~~~~~~~~~~~~~~~~~~~~~~~~~~~~~~~~~~~~~~~~~~~~~~~~~~~~~~~~~~~~~~~~~~~~~~~~~~~~~~~~~~~~~~~~~~~~~~~~~~~\n",
            "→ Pre-check function “show_python_executable(¬)” ran in about a moment – 0.002s\n",
            "====================================================================================================\n",
            "\n",
            "§ RUNNING TEST #1: `test_one(¬)` – “Class-module basics”\n",
            "----------------------------------------------------------------------------------------------------\n",
            "\n",
            "~~~~~~~~~~~~~~~~~~~~~~~~~~~~~~~~~~~~~~~~~~~~~~~~~~~~~~~~~~~~~~~~~~~~~~~~~~~~~~~~~~~~~~~~~~~~~~~~~~~~\n",
            "→ Test function “test_one(¬)” ran in about a moment – 0.000s\n",
            "====================================================================================================\n",
            "\n",
            "§ RUNNING TEST #2: `test_two(¬)` – “Class-module subtype basics”\n",
            "----------------------------------------------------------------------------------------------------\n",
            "\n",
            "~~~~~~~~~~~~~~~~~~~~~~~~~~~~~~~~~~~~~~~~~~~~~~~~~~~~~~~~~~~~~~~~~~~~~~~~~~~~~~~~~~~~~~~~~~~~~~~~~~~~\n",
            "→ Test function “test_two(¬)” ran in about a moment – 0.001s\n",
            "====================================================================================================\n",
            "\n",
            "§ RUNNING TEST #3: `test_three(¬)` – “Class-module registry basics”\n",
            "----------------------------------------------------------------------------------------------------\n",
            "\n",
            "all_registered_appnames():\n",
            "('clu',)\n",
            "\n",
            "all_registered_modules():\n",
            "(<class-module “clu.app.Module”>,\n",
            " <class-module “clu.app.ProxyModule”>,\n",
            " <class-module “clu.app.DerivedModule”>)\n",
            "\n",
            "mro(m):\n",
            "(<class-module “clu.app.Module”>,\n",
            " <class-module “ModuleBase”>,\n",
            " <class 'clu.importing.Package'>,\n",
            " <class 'module'>,\n",
            " <class-module ancestor type “clu.importing.Registry”>,\n",
            " <class 'abc.ABC'>,\n",
            " <class 'object'>)\n",
            "\n",
            "~~~~~~~~~~~~~~~~~~~~~~~~~~~~~~~~~~~~~~~~~~~~~~~~~~~~~~~~~~~~~~~~~~~~~~~~~~~~~~~~~~~~~~~~~~~~~~~~~~~~\n",
            "→ Test function “test_three(¬)” ran in about a moment – 0.041s\n",
            "====================================================================================================\n",
            "\n",
            "§ RUNNING TEST #4: `test_three_point_five(¬)` – “System import hooks, specs and finders”\n",
            "----------------------------------------------------------------------------------------------------\n",
            "\n"
          ]
        },
        {
          "output_type": "error",
          "ename": "AssertionError",
          "evalue": "",
          "traceback": [
            "\u001b[1;31m---------------------------------------------------------------------------\u001b[0m",
            "\u001b[1;31mAssertionError\u001b[0m                            Traceback (most recent call last)",
            "\u001b[1;32m<ipython-input-15-15827ceb59bf>\u001b[0m in \u001b[0;36m<module>\u001b[1;34m\u001b[0m\n\u001b[1;32m----> 1\u001b[1;33m \u001b[0mrunpy\u001b[0m\u001b[1;33m.\u001b[0m\u001b[0mrun_module\u001b[0m\u001b[1;33m(\u001b[0m\u001b[1;34m'clu.importing'\u001b[0m\u001b[1;33m)\u001b[0m\u001b[1;33m[\u001b[0m\u001b[1;34m'test'\u001b[0m\u001b[1;33m]\u001b[0m\u001b[1;33m(\u001b[0m\u001b[1;33m)\u001b[0m\u001b[1;33m\u001b[0m\u001b[1;33m\u001b[0m\u001b[0m\n\u001b[0m",
            "\u001b[1;32m/usr/local/lib/python3.7/site-packages/clu/importing.py\u001b[0m in \u001b[0;36mtest\u001b[1;34m()\u001b[0m\n\u001b[0;32m   1313\u001b[0m \u001b[1;33m\u001b[0m\u001b[0m\n\u001b[0;32m   1314\u001b[0m     \u001b[1;31m# Run all tests:\u001b[0m\u001b[1;33m\u001b[0m\u001b[1;33m\u001b[0m\u001b[1;33m\u001b[0m\u001b[0m\n\u001b[1;32m-> 1315\u001b[1;33m     \u001b[1;32mreturn\u001b[0m \u001b[0minline\u001b[0m\u001b[1;33m.\u001b[0m\u001b[0mtest\u001b[0m\u001b[1;33m(\u001b[0m\u001b[1;36m100\u001b[0m\u001b[1;33m)\u001b[0m\u001b[1;33m\u001b[0m\u001b[1;33m\u001b[0m\u001b[0m\n\u001b[0m\u001b[0;32m   1316\u001b[0m \u001b[1;33m\u001b[0m\u001b[0m\n\u001b[0;32m   1317\u001b[0m \u001b[1;32mif\u001b[0m \u001b[0m__name__\u001b[0m \u001b[1;33m==\u001b[0m \u001b[1;34m'__main__'\u001b[0m\u001b[1;33m:\u001b[0m\u001b[1;33m\u001b[0m\u001b[1;33m\u001b[0m\u001b[0m\n",
            "\u001b[1;32m/usr/local/lib/python3.7/site-packages/clu/testing/utils.py\u001b[0m in \u001b[0;36mtest\u001b[1;34m(self, exec_count, *args, **kwargs)\u001b[0m\n\u001b[0;32m    494\u001b[0m                 \u001b[1;31m# Call testing functions once, initially:\u001b[0m\u001b[1;33m\u001b[0m\u001b[1;33m\u001b[0m\u001b[1;33m\u001b[0m\u001b[0m\n\u001b[0;32m    495\u001b[0m                 \u001b[1;32mfor\u001b[0m \u001b[0midx\u001b[0m\u001b[1;33m,\u001b[0m \u001b[0mfunction\u001b[0m \u001b[1;32min\u001b[0m \u001b[0menumerate\u001b[0m\u001b[1;33m(\u001b[0m\u001b[0mself\u001b[0m\u001b[1;33m.\u001b[0m\u001b[0mtest_functions\u001b[0m\u001b[1;33m)\u001b[0m\u001b[1;33m:\u001b[0m\u001b[1;33m\u001b[0m\u001b[1;33m\u001b[0m\u001b[0m\n\u001b[1;32m--> 496\u001b[1;33m                     \u001b[0mfunction\u001b[0m\u001b[1;33m(\u001b[0m\u001b[1;33m*\u001b[0m\u001b[0margs\u001b[0m\u001b[1;33m,\u001b[0m \u001b[0mverbose\u001b[0m\u001b[1;33m=\u001b[0m\u001b[0mverbosity\u001b[0m\u001b[1;33m,\u001b[0m \u001b[0midx\u001b[0m\u001b[1;33m=\u001b[0m\u001b[0midx\u001b[0m\u001b[1;33m,\u001b[0m \u001b[0mmax\u001b[0m\u001b[1;33m=\u001b[0m\u001b[0mmost\u001b[0m\u001b[1;33m)\u001b[0m\u001b[1;33m\u001b[0m\u001b[1;33m\u001b[0m\u001b[0m\n\u001b[0m\u001b[0;32m    497\u001b[0m \u001b[1;33m\u001b[0m\u001b[0m\n\u001b[0;32m    498\u001b[0m                 \u001b[1;31m# Call them twice through «adnauseumn» –\u001b[0m\u001b[1;33m\u001b[0m\u001b[1;33m\u001b[0m\u001b[1;33m\u001b[0m\u001b[0m\n",
            "\u001b[1;32m/usr/local/lib/python3.7/site-packages/clu/testing/utils.py\u001b[0m in \u001b[0;36mwrapper\u001b[1;34m(*args, **kwargs)\u001b[0m\n\u001b[0;32m    316\u001b[0m             \u001b[0mlabel_timer\u001b[0m \u001b[1;33m=\u001b[0m \u001b[1;34mf\"{label_idx} – {name}\"\u001b[0m\u001b[1;33m\u001b[0m\u001b[1;33m\u001b[0m\u001b[0m\n\u001b[0;32m    317\u001b[0m             \u001b[1;32mwith\u001b[0m \u001b[0mwatch\u001b[0m\u001b[1;33m.\u001b[0m\u001b[0mtimer\u001b[0m\u001b[1;33m(\u001b[0m\u001b[0mlabel_timer\u001b[0m\u001b[1;33m,\u001b[0m \u001b[0mbucket\u001b[0m\u001b[1;33m=\u001b[0m\u001b[0mbucket\u001b[0m\u001b[1;33m)\u001b[0m\u001b[1;33m:\u001b[0m\u001b[1;33m\u001b[0m\u001b[1;33m\u001b[0m\u001b[0m\n\u001b[1;32m--> 318\u001b[1;33m                 \u001b[0mout\u001b[0m \u001b[1;33m=\u001b[0m \u001b[0mfunction\u001b[0m\u001b[1;33m(\u001b[0m\u001b[1;33m*\u001b[0m\u001b[0margs\u001b[0m\u001b[1;33m,\u001b[0m \u001b[1;33m**\u001b[0m\u001b[0mkwargs\u001b[0m\u001b[1;33m)\u001b[0m\u001b[1;33m\u001b[0m\u001b[1;33m\u001b[0m\u001b[0m\n\u001b[0m\u001b[0;32m    319\u001b[0m \u001b[1;33m\u001b[0m\u001b[0m\n\u001b[0;32m    320\u001b[0m             \u001b[1;32mif\u001b[0m \u001b[0mverbose\u001b[0m\u001b[1;33m:\u001b[0m\u001b[1;33m\u001b[0m\u001b[1;33m\u001b[0m\u001b[0m\n",
            "\u001b[1;32m/usr/local/lib/python3.7/site-packages/clu/importing.py\u001b[0m in \u001b[0;36mtest_three_point_five\u001b[1;34m()\u001b[0m\n\u001b[0;32m   1092\u001b[0m         \u001b[0mfinder\u001b[0m \u001b[1;33m=\u001b[0m \u001b[0mFinder\u001b[0m\u001b[1;33m(\u001b[0m\u001b[1;33m)\u001b[0m\u001b[1;33m\u001b[0m\u001b[1;33m\u001b[0m\u001b[0m\n\u001b[0;32m   1093\u001b[0m         \u001b[1;32massert\u001b[0m \u001b[0mtype\u001b[0m\u001b[1;33m(\u001b[0m\u001b[0mfinder\u001b[0m\u001b[1;33m.\u001b[0m\u001b[0mloader\u001b[0m\u001b[1;33m)\u001b[0m \u001b[1;32mis\u001b[0m \u001b[0mLoader\u001b[0m\u001b[1;33m\u001b[0m\u001b[1;33m\u001b[0m\u001b[0m\n\u001b[1;32m-> 1094\u001b[1;33m         \u001b[1;32massert\u001b[0m \u001b[0mtype\u001b[0m\u001b[1;33m(\u001b[0m\u001b[0mfinder\u001b[0m\u001b[1;33m)\u001b[0m \u001b[1;32min\u001b[0m \u001b[0msys\u001b[0m\u001b[1;33m.\u001b[0m\u001b[0mmeta_path\u001b[0m\u001b[1;33m\u001b[0m\u001b[1;33m\u001b[0m\u001b[0m\n\u001b[0m\u001b[0;32m   1095\u001b[0m \u001b[1;33m\u001b[0m\u001b[0m\n\u001b[0;32m   1096\u001b[0m         \u001b[1;32mclass\u001b[0m \u001b[0mFindMe\u001b[0m\u001b[1;33m(\u001b[0m\u001b[0mModule\u001b[0m\u001b[1;33m)\u001b[0m\u001b[1;33m:\u001b[0m\u001b[1;33m\u001b[0m\u001b[1;33m\u001b[0m\u001b[0m\n",
            "\u001b[1;31mAssertionError\u001b[0m: "
          ]
        }
      ],
      "execution_count": 15,
      "metadata": {
        "collapsed": false,
        "jupyter": {
          "source_hidden": false,
          "outputs_hidden": false
        },
        "nteract": {
          "transient": {
            "deleting": false
          }
        }
      }
    },
    {
      "cell_type": "code",
      "source": [
        "runpy.run_module('clu.dicts')['test']()"
      ],
      "outputs": [
        {
          "output_type": "stream",
          "name": "stderr",
          "text": [
            "/usr/local/Cellar/python/3.7.6_1/Frameworks/Python.framework/Versions/3.7/lib/python3.7/runpy.py:125: RuntimeWarning: 'clu.dicts' found in sys.modules after import of package 'clu', but prior to execution of 'clu.dicts'; this may result in unpredictable behaviour\n",
            "  warn(RuntimeWarning(msg))\n"
          ]
        },
        {
          "output_type": "stream",
          "name": "stdout",
          "text": [
            "\n",
            "§ RUNNING PRE-CHECK #1: `stash_environment(¬)` – “Stash environment state before testing”\n",
            "----------------------------------------------------------------------------------------------------\n",
            "\n",
            "\n",
            "~~~~~~~~~~~~~~~~~~~~~~~~~~~~~~~~~~~~~~~~~~~~~~~~~~~~~~~~~~~~~~~~~~~~~~~~~~~~~~~~~~~~~~~~~~~~~~~~~~~~\n",
            "→ Pre-check function “stash_environment(¬)” ran in about a moment – 0.000s\n",
            "====================================================================================================\n",
            "\n",
            "§ RUNNING TEST #1: `test_one(¬)` – “Shallow clone membership check”\n",
            "----------------------------------------------------------------------------------------------------\n",
            "\n",
            "~~~~~~~~~~~~~~~~~~~~~~~~~~~~~~~~~~~~~~~~~~~~~~~~~~~~~~~~~~~~~~~~~~~~~~~~~~~~~~~~~~~~~~~~~~~~~~~~~~~~\n",
            "→ Test function “test_one(¬)” ran in about a moment – 0.061s\n",
            "====================================================================================================\n",
            "\n",
            "§ RUNNING TEST #2: `test_two(¬)` – “Deep clone membership check”\n",
            "----------------------------------------------------------------------------------------------------\n",
            "\n",
            "~~~~~~~~~~~~~~~~~~~~~~~~~~~~~~~~~~~~~~~~~~~~~~~~~~~~~~~~~~~~~~~~~~~~~~~~~~~~~~~~~~~~~~~~~~~~~~~~~~~~\n",
            "→ Test function “test_two(¬)” ran in about a moment – 0.040s\n",
            "====================================================================================================\n",
            "\n",
            "§ RUNNING TEST #3: `test_three(¬)` – “Equality comparisons across the board”\n",
            "----------------------------------------------------------------------------------------------------\n",
            "\n",
            "REPR»CHAIN0:\n",
            "\n",
            "ChainMap «2 maps, 26 keys» [\n",
            "    builtins.dict : { \n",
            "        yo : 'dogg',\n",
            "        i : 'heard',\n",
            "        you : 'liked',\n",
            "        dict : 'chains'\n",
            "    },\n",
            "    clu.config.keymap.Flat : { \n",
            "        body:declare_i:id:name : 'i',\n",
            "        body:declare_i:id:type : 'Identifier',\n",
            "        body:declare_i:init:type : 'Literal',\n",
            "        body:declare_i:init:value : 2,\n",
            "        body:declare_i:type : 'VariableDeclarator',\n",
            "        body:kind : 'var',\n",
            "        body:type : 'VariableDeclaration',\n",
            "        body:declare_j:id:name : 'j',\n",
            "        body:declare_j:id:type : 'Identifier',\n",
            "        body:declare_j:init:type : 'Literal',\n",
            "        body:declare_j:init:value : 4,\n",
            "        body:declare_j:type : 'VariableDeclarator',\n",
            "        body:declare_answer:id:name : 'answer',\n",
            "        body:declare_answer:id:type : 'Identifier',\n",
            "        body:declare_answer:init:left:name : 'i',\n",
            "        body:declare_answer:init:left:type : 'Identifier',\n",
            "        body:declare_answer:init:operator : '*',\n",
            "        body:declare_answer:init:right:name : 'j',\n",
            "        body:declare_answer:init:right:type : 'Identifier',\n",
            "        body:declare_answer:init:type : 'BinaryExpression',\n",
            "        body:declare_answer:type : 'VariableDeclarator',\n",
            "        type : 'Program'\n",
            "    }\n",
            "]\n",
            "\n",
            "~~~~~~~~~~~~~~~~~~~~~~~~~~~~~~~~~~~~~~~~~~~~~~~~~~~~~~~~~~~~~~~~~~~~~~~~~~~~~~~~~~~~~~~~~~~~~~~~~~~~\n",
            "→ Test function “test_three(¬)” ran in about a moment – 0.030s\n",
            "====================================================================================================\n",
            "\n",
            "§ RUNNING TEST #4: `test_four_experimental(¬)` – “Nested map source for ChainMap”\n",
            "----------------------------------------------------------------------------------------------------\n",
            "\n",
            "REPR»CHAINÑ:\n",
            "\n",
            "ChainMap «1 map, 2 keys» [\n",
            "    builtins.dict : { \n",
            "        body : {'declare_answer': {'id': {'name': 'answer', 'type': 'Identifier'}, 'init': {'left': {'name': 'i', 'type': 'Identifier'}, 'operator': '*', 'right': {'name': 'j', 'type': 'Identifier'}, 'type': 'BinaryExpression'}, 'type': 'VariableDeclarator'}, 'declare_i': {'id': {'name': 'i', 'type': 'Identifier'}, 'init': {'type': 'Literal', 'value': 2}, 'type': 'VariableDeclarator'}, 'declare_j': {'id': {'name': 'j', 'type': 'Identifier'}, 'init': {'type': 'Literal', 'value': 4}, 'type': 'VariableDeclarator'}, 'kind': 'var', ...},\n",
            "        type : 'Program'\n",
            "    }\n",
            "]\n",
            "\n",
            "~~~~~~~~~~~~~~~~~~~~~~~~~~~~~~~~~~~~~~~~~~~~~~~~~~~~~~~~~~~~~~~~~~~~~~~~~~~~~~~~~~~~~~~~~~~~~~~~~~~~\n",
            "→ Test function “test_four_experimental(¬)” ran in about a moment – 0.007s\n",
            "====================================================================================================\n",
            "\n",
            "§ RUNNING TEST #5: `test_five(¬)` – “Compatibility checks with “collections.ChainMap””\n",
            "----------------------------------------------------------------------------------------------------\n",
            "\n",
            "~~~~~~~~~~~~~~~~~~~~~~~~~~~~~~~~~~~~~~~~~~~~~~~~~~~~~~~~~~~~~~~~~~~~~~~~~~~~~~~~~~~~~~~~~~~~~~~~~~~~\n",
            "→ Test function “test_five(¬)” ran in about a moment – 0.005s\n",
            "====================================================================================================\n",
            "\n",
            "§ RUNNING DIAGNOSTIC #1: `restore_environment(¬)` – “Restore environment from stashed values”\n",
            "----------------------------------------------------------------------------------------------------\n",
            "\n",
            "\n",
            "~~~~~~~~~~~~~~~~~~~~~~~~~~~~~~~~~~~~~~~~~~~~~~~~~~~~~~~~~~~~~~~~~~~~~~~~~~~~~~~~~~~~~~~~~~~~~~~~~~~~\n",
            "→ Diagnostic function “restore_environment(¬)” ran in about a moment – 0.000s\n",
            "====================================================================================================\n",
            "\n",
            "§ RUNNING DIAGNOSTIC #2: `show_environment(¬)` – “Show environment variables”\n",
            "----------------------------------------------------------------------------------------------------\n",
            "\n",
            "» TMPDIR                       : /var/folders/ls/p9srsyks42xd3nm8khy_4f300000gn/T/\n",
            "» __CF_USER_TEXT_ENCODING      : 0x1F5:0x0:0x0\n",
            "» HOME                         : /Users/fish\n",
            "» SHELL                        : /usr/local/bin/bash\n",
            "» Apple_PubSub_Socket_Render   : /private/tmp/com.apple.launchd.EIVd0mkRUC/Render\n",
            "» SSH_AUTH_SOCK                : /private/tmp/com.apple.launchd.ldC3j8tm1j/Listeners\n",
            "» PATH                         : ['/Users/fish/Documents/node_modules/.bin',\n",
            "                                  '/Users/fish/node_modules/.bin',\n",
            "                                  '/Users/node_modules/.bin',\n",
            "                                  '/node_modules/.bin',\n",
            "                                  '/Applications/nteract.app/Contents/Frameworks/nteract '\n",
            "                                  'Helper.app/Contents/MacOS',\n",
            "                                  '/usr/local/opt/python/libexec/bin',\n",
            "                                  '/usr/local/opt/ruby/bin',\n",
            "                                  '/usr/local/lib/ruby/gems/2.6.0/bin',\n",
            "                                  '/usr/local/opt/go/bin',\n",
            "                                  '/Library/Java/JavaVirtualMachines/openjdk-13.0.2.jdk/Contents/Home/bin',\n",
            "                                  '/Users/fish/.script-bin',\n",
            "                                  '/usr/local/bin',\n",
            "                                  '/usr/local/sbin',\n",
            "                                  '/Library/TeX/texbin',\n",
            "                                  '/usr/bin',\n",
            "                                  '/bin',\n",
            "                                  '/usr/sbin',\n",
            "                                  '/sbin',\n",
            "                                  '/usr/X11/bin']\n",
            "» LOGNAME                      : fish\n",
            "» DISPLAY                      : /private/tmp/com.apple.launchd.xzqDYk7jqM/org.macosforge.xquartz:0\n",
            "» XPC_SERVICE_NAME             : 0\n",
            "» USER                         : fish\n",
            "» XPC_FLAGS                    : 0x0\n",
            "» XDG_CONFIG_DIRS              : /Users/fish/Library/Preferences:/Library/Preferences:/usr/local/etc/xdg\n",
            "» LESS                         : -r\n",
            "» HISTCONTROL                  : ignoreboth\n",
            "» PKG_CONFIG_PATH              : ['/usr/local/opt/python/lib/pkgconfig', '/usr/local/lib/pkgconfig', '/opt/X11/lib/pkgconfig', '']\n",
            "» HISTSIZE                     : 1000000\n",
            "» JAVA_HOME                    : /Library/Java/JavaVirtualMachines/openjdk-13.0.2.jdk/Contents/Home\n",
            "» XDG_DATA_HOME                : /Users/fish/Library/Application Support\n",
            "» HISTTIMEFORMAT               : %F %T\n",
            "» XDG_CONFIG_HOME              : /Users/fish/.config\n",
            "» HOMEBREW_PREFIX              : /usr/local\n",
            "» URL_DOWNLOAD_CACHE           : /Users/fish/.cache/bash_url_download\n",
            "» GPG_TTY                      : not a tty\n",
            "» XML_CATALOG_FILES            : /usr/local/etc/xml/catalog\n",
            "» EDITOR                       : /usr/local/bin/emacs\n",
            "» PWD                          : /\n",
            "» PIP_RESPECT_VIRTUALENV       : true\n",
            "» ORIGINAL_PATH                : ['/usr/local/bin',\n",
            "                                  '/usr/bin',\n",
            "                                  '/bin',\n",
            "                                  '/usr/sbin',\n",
            "                                  '/sbin',\n",
            "                                  '/Library/TeX/texbin',\n",
            "                                  '/opt/X11/bin',\n",
            "                                  '/node_modules/.bin',\n",
            "                                  '/Applications/nteract.app/Contents/MacOS']\n",
            "» HOMEBREW_CURL                : /usr/local/bin/curl\n",
            "» LS_COLORS                    : \n",
            "» HOMEBREW_INSTALL_BADGE       : ⚗️\n",
            "» PROMPT_COMMAND               : _direnv_hook;set_bash_prompt\n",
            "» HOMEBREW_EDITOR              : /usr/local/bin/mate\n",
            "» VIRTUALENVWRAPPER_PYTHON     : /usr/local/opt/python/libexec/bin/python\n",
            "» CLICOLOR_FORCE               : 1\n",
            "» SAVEHIST                     : 999999\n",
            "» ANDROID_NDK_HOME             : /usr/local/share/android-ndk\n",
            "» XDG_CACHE_HOME               : /Users/fish/.cache\n",
            "» WORKON_HOME                  : /Users/fish/Praxa\n",
            "» HOMEBREW_NO_ANALYTICS        : 1\n",
            "» HOMEBREW_CELLAR              : /usr/local/Cellar\n",
            "» MANPAGER                     : most\n",
            "» SHLVL                        : 1\n",
            "» BASE_PYTHONPATH              : ['/',\n",
            "                                  '/usr/local/Cellar/python/3.7.6_1/Frameworks/Python.framework/Versions/3.7/lib/python37.zip',\n",
            "                                  '/usr/local/Cellar/python/3.7.6_1/Frameworks/Python.framework/Versions/3.7/lib/python3.7',\n",
            "                                  '/usr/local/Cellar/python/3.7.6_1/Frameworks/Python.framework/Versions/3.7/lib/python3.7/lib-dynload',\n",
            "                                  '/Users/fish/Library/Python/3.7/lib/python/site-packages',\n",
            "                                  '/usr/local/lib/python3.7/site-packages',\n",
            "                                  '/usr/local/lib/python3.7/site-packages/geos',\n",
            "                                  '/usr/local/Cellar/protobuf/3.11.2/libexec/lib/python3.7/site-packages']\n",
            "» PAGER                        : cat\n",
            "» ANDROID_SDK_ROOT             : /usr/local/share/android-sdk\n",
            "» HOMEBREW_REPOSITORY          : /usr/local/Homebrew\n",
            "» XDG_STATE_HOME               : /Users/fish/.local/state\n",
            "» HOMEBREW_GITHUB_API_TOKEN    : 7bceab50b4385e412ffbd79592bb3f12775ec854\n",
            "» NODE_PATH                    : ['/usr/local/opt/node/libexec/lib/node_modules', '/Users/fish/.cache/npm/lib/node_modules', '']\n",
            "» HOMEBREW_GIT                 : /usr/local/bin/git\n",
            "» PGDATA                       : /usr/local/var/postgres/ost2\n",
            "» HOMEBREW_VERBOSE             : 1\n",
            "» XDG_DATA_DIRS                : /Users/fish/Library/Application Support:/Library/Application\n",
            "                                 Support:/usr/local/share:/usr/share:/usr/X11/share\n",
            "» HISTIGNORE                   : &:[bf]g:exit:*>|*:*rm*-rf*:*brew*cask*home*:*brew*home*\n",
            "» GOPATH                       : ['/usr/local/opt/go/libexec', '/usr/local/opt/go', '']\n",
            "» _                            : /usr/bin/env\n",
            "» __PYVENV_LAUNCHER__          : /usr/local/Cellar/python/3.7.6_1/libexec/bin/python\n",
            "» LC_CTYPE                     : UTF-8\n",
            "» TERM                         : xterm-color\n",
            "» CLICOLOR                     : 1\n",
            "» GIT_PAGER                    : cat\n",
            "» MPLBACKEND                   : module://ipykernel.pylab.backend_inline\n",
            "\n",
            "~~~~~~~~~~~~~~~~~~~~~~~~~~~~~~~~~~~~~~~~~~~~~~~~~~~~~~~~~~~~~~~~~~~~~~~~~~~~~~~~~~~~~~~~~~~~~~~~~~~~\n",
            "→ Diagnostic function “show_environment(¬)” ran in about a moment – 0.164s\n",
            "====================================================================================================\n",
            "\n",
            "⌀ TIME TOTALS – ran 5 tests a hundred times – 1 precheck, 2 diagnostics\n",
            "≈≈≈≈≈≈≈≈≈≈≈≈≈≈≈≈≈≈≈≈≈≈≈≈≈≈≈≈≈≈≈≈≈≈≈≈≈≈≈≈≈≈≈≈≈≈≈≈≈≈≈≈≈≈≈≈≈≈≈≈≈≈≈≈≈≈≈≈≈≈≈≈≈≈≈≈≈≈≈≈≈≈≈≈≈≈≈≈≈≈≈≈≈≈≈≈≈≈≈≈\n",
            " root                                      1x  5 seconds    [ 5.892s] 100%\n",
            "   check                                   1x  a moment     [ 0.014s] 0%\n",
            "     1 – stash_environment                 1x  a moment     [ 0.000s] 0%\n",
            "   main                                    1x  5 seconds    [ 5.690s] 97%\n",
            "     1 – test_one                        100x  2 seconds    [ 2.546s] 43%\n",
            "     2 – test_two                        100x  2 seconds    [ 2.563s] 44%\n",
            "     3 – test_three                      100x  a moment     [ 0.238s] 4%\n",
            "     4 – test_four_experimental          100x  a moment     [ 0.034s] 1%\n",
            "     5 – test_five                       100x  a moment     [ 0.233s] 4%\n",
            "   postexec                                1x  a moment     [ 0.188s] 3%\n",
            "     1 – restore_environment               1x  a moment     [ 0.000s] 0%\n",
            "     2 – show_environment                  1x  a moment     [ 0.164s] 3%\n",
            "≠≠≠≠≠≠≠≠≠≠≠≠≠≠≠≠≠≠≠≠≠≠≠≠≠≠≠≠≠≠≠≠≠≠≠≠≠≠≠≠≠≠≠≠≠≠≠≠≠≠≠≠≠≠≠≠≠≠≠≠≠≠≠≠≠≠≠≠≠≠≠≠≠≠≠≠≠≠≠≠≠≠≠≠≠≠≠≠≠≠≠≠≠≠≠≠≠≠≠≠\n"
          ]
        },
        {
          "output_type": "execute_result",
          "execution_count": 16,
          "data": {
            "text/plain": [
              "0"
            ]
          },
          "metadata": {}
        }
      ],
      "execution_count": 16,
      "metadata": {
        "collapsed": false,
        "jupyter": {
          "source_hidden": false,
          "outputs_hidden": false
        },
        "nteract": {
          "transient": {
            "deleting": false
          }
        }
      }
    },
    {
      "cell_type": "code",
      "source": [
        "runpy.run_module('clu.importing', alter_sys=True)['test']()"
      ],
      "outputs": [
        {
          "output_type": "stream",
          "name": "stdout",
          "text": [
            "\n",
            "§ RUNNING PRE-CHECK #1: `show_python_executable(¬)` – “Show the Python executable”\n",
            "----------------------------------------------------------------------------------------------------\n",
            "\n",
            "PYTHON: /usr/local/opt/python/bin/python3.7\n",
            "\n",
            "~~~~~~~~~~~~~~~~~~~~~~~~~~~~~~~~~~~~~~~~~~~~~~~~~~~~~~~~~~~~~~~~~~~~~~~~~~~~~~~~~~~~~~~~~~~~~~~~~~~~\n",
            "→ Pre-check function “show_python_executable(¬)” ran in about a moment – 0.004s\n",
            "====================================================================================================\n",
            "\n",
            "§ RUNNING TEST #1: `test_one(¬)` – “Class-module basics”\n",
            "----------------------------------------------------------------------------------------------------\n",
            "\n",
            "~~~~~~~~~~~~~~~~~~~~~~~~~~~~~~~~~~~~~~~~~~~~~~~~~~~~~~~~~~~~~~~~~~~~~~~~~~~~~~~~~~~~~~~~~~~~~~~~~~~~\n",
            "→ Test function “test_one(¬)” ran in about a moment – 0.000s\n",
            "====================================================================================================\n",
            "\n",
            "§ RUNNING TEST #2: `test_two(¬)` – “Class-module subtype basics”\n",
            "----------------------------------------------------------------------------------------------------\n",
            "\n",
            "~~~~~~~~~~~~~~~~~~~~~~~~~~~~~~~~~~~~~~~~~~~~~~~~~~~~~~~~~~~~~~~~~~~~~~~~~~~~~~~~~~~~~~~~~~~~~~~~~~~~\n",
            "→ Test function “test_two(¬)” ran in about a moment – 0.001s\n",
            "====================================================================================================\n",
            "\n",
            "§ RUNNING TEST #3: `test_three(¬)` – “Class-module registry basics”\n",
            "----------------------------------------------------------------------------------------------------\n",
            "\n",
            "all_registered_appnames():\n",
            "('clu',)\n",
            "\n",
            "all_registered_modules():\n",
            "(<class-module “clu.app.Module”>, <class-module “clu.app.ProxyModule”>)\n",
            "\n",
            "mro(m):\n",
            "(<class-module “clu.app.Module”>,\n",
            " <class-module “ModuleBase”>,\n",
            " <class 'clu.importing.Package'>,\n",
            " <class 'module'>,\n",
            " <class-module ancestor type “clu.importing.Registry”>,\n",
            " <class 'abc.ABC'>,\n",
            " <class 'object'>)\n",
            "\n",
            "~~~~~~~~~~~~~~~~~~~~~~~~~~~~~~~~~~~~~~~~~~~~~~~~~~~~~~~~~~~~~~~~~~~~~~~~~~~~~~~~~~~~~~~~~~~~~~~~~~~~\n",
            "→ Test function “test_three(¬)” ran in about a moment – 0.032s\n",
            "====================================================================================================\n",
            "\n",
            "§ RUNNING TEST #4: `test_three_point_five(¬)` – “System import hooks, specs and finders”\n",
            "----------------------------------------------------------------------------------------------------\n",
            "\n"
          ]
        },
        {
          "output_type": "error",
          "ename": "AssertionError",
          "evalue": "",
          "traceback": [
            "\u001b[1;31m---------------------------------------------------------------------------\u001b[0m",
            "\u001b[1;31mAssertionError\u001b[0m                            Traceback (most recent call last)",
            "\u001b[1;32m<ipython-input-17-d9e6add31a52>\u001b[0m in \u001b[0;36m<module>\u001b[1;34m\u001b[0m\n\u001b[1;32m----> 1\u001b[1;33m \u001b[0mrunpy\u001b[0m\u001b[1;33m.\u001b[0m\u001b[0mrun_module\u001b[0m\u001b[1;33m(\u001b[0m\u001b[1;34m'clu.importing'\u001b[0m\u001b[1;33m,\u001b[0m \u001b[0malter_sys\u001b[0m\u001b[1;33m=\u001b[0m\u001b[1;32mTrue\u001b[0m\u001b[1;33m)\u001b[0m\u001b[1;33m[\u001b[0m\u001b[1;34m'test'\u001b[0m\u001b[1;33m]\u001b[0m\u001b[1;33m(\u001b[0m\u001b[1;33m)\u001b[0m\u001b[1;33m\u001b[0m\u001b[1;33m\u001b[0m\u001b[0m\n\u001b[0m",
            "\u001b[1;32m/usr/local/lib/python3.7/site-packages/clu/importing.py\u001b[0m in \u001b[0;36mtest\u001b[1;34m()\u001b[0m\n\u001b[0;32m   1313\u001b[0m \u001b[1;33m\u001b[0m\u001b[0m\n\u001b[0;32m   1314\u001b[0m     \u001b[1;31m# Run all tests:\u001b[0m\u001b[1;33m\u001b[0m\u001b[1;33m\u001b[0m\u001b[1;33m\u001b[0m\u001b[0m\n\u001b[1;32m-> 1315\u001b[1;33m     \u001b[1;32mreturn\u001b[0m \u001b[0minline\u001b[0m\u001b[1;33m.\u001b[0m\u001b[0mtest\u001b[0m\u001b[1;33m(\u001b[0m\u001b[1;36m100\u001b[0m\u001b[1;33m)\u001b[0m\u001b[1;33m\u001b[0m\u001b[1;33m\u001b[0m\u001b[0m\n\u001b[0m\u001b[0;32m   1316\u001b[0m \u001b[1;33m\u001b[0m\u001b[0m\n\u001b[0;32m   1317\u001b[0m \u001b[1;32mif\u001b[0m \u001b[0m__name__\u001b[0m \u001b[1;33m==\u001b[0m \u001b[1;34m'__main__'\u001b[0m\u001b[1;33m:\u001b[0m\u001b[1;33m\u001b[0m\u001b[1;33m\u001b[0m\u001b[0m\n",
            "\u001b[1;32m/usr/local/lib/python3.7/site-packages/clu/testing/utils.py\u001b[0m in \u001b[0;36mtest\u001b[1;34m(self, exec_count, *args, **kwargs)\u001b[0m\n\u001b[0;32m    494\u001b[0m                 \u001b[1;31m# Call testing functions once, initially:\u001b[0m\u001b[1;33m\u001b[0m\u001b[1;33m\u001b[0m\u001b[1;33m\u001b[0m\u001b[0m\n\u001b[0;32m    495\u001b[0m                 \u001b[1;32mfor\u001b[0m \u001b[0midx\u001b[0m\u001b[1;33m,\u001b[0m \u001b[0mfunction\u001b[0m \u001b[1;32min\u001b[0m \u001b[0menumerate\u001b[0m\u001b[1;33m(\u001b[0m\u001b[0mself\u001b[0m\u001b[1;33m.\u001b[0m\u001b[0mtest_functions\u001b[0m\u001b[1;33m)\u001b[0m\u001b[1;33m:\u001b[0m\u001b[1;33m\u001b[0m\u001b[1;33m\u001b[0m\u001b[0m\n\u001b[1;32m--> 496\u001b[1;33m                     \u001b[0mfunction\u001b[0m\u001b[1;33m(\u001b[0m\u001b[1;33m*\u001b[0m\u001b[0margs\u001b[0m\u001b[1;33m,\u001b[0m \u001b[0mverbose\u001b[0m\u001b[1;33m=\u001b[0m\u001b[0mverbosity\u001b[0m\u001b[1;33m,\u001b[0m \u001b[0midx\u001b[0m\u001b[1;33m=\u001b[0m\u001b[0midx\u001b[0m\u001b[1;33m,\u001b[0m \u001b[0mmax\u001b[0m\u001b[1;33m=\u001b[0m\u001b[0mmost\u001b[0m\u001b[1;33m)\u001b[0m\u001b[1;33m\u001b[0m\u001b[1;33m\u001b[0m\u001b[0m\n\u001b[0m\u001b[0;32m    497\u001b[0m \u001b[1;33m\u001b[0m\u001b[0m\n\u001b[0;32m    498\u001b[0m                 \u001b[1;31m# Call them twice through «adnauseumn» –\u001b[0m\u001b[1;33m\u001b[0m\u001b[1;33m\u001b[0m\u001b[1;33m\u001b[0m\u001b[0m\n",
            "\u001b[1;32m/usr/local/lib/python3.7/site-packages/clu/testing/utils.py\u001b[0m in \u001b[0;36mwrapper\u001b[1;34m(*args, **kwargs)\u001b[0m\n\u001b[0;32m    316\u001b[0m             \u001b[0mlabel_timer\u001b[0m \u001b[1;33m=\u001b[0m \u001b[1;34mf\"{label_idx} – {name}\"\u001b[0m\u001b[1;33m\u001b[0m\u001b[1;33m\u001b[0m\u001b[0m\n\u001b[0;32m    317\u001b[0m             \u001b[1;32mwith\u001b[0m \u001b[0mwatch\u001b[0m\u001b[1;33m.\u001b[0m\u001b[0mtimer\u001b[0m\u001b[1;33m(\u001b[0m\u001b[0mlabel_timer\u001b[0m\u001b[1;33m,\u001b[0m \u001b[0mbucket\u001b[0m\u001b[1;33m=\u001b[0m\u001b[0mbucket\u001b[0m\u001b[1;33m)\u001b[0m\u001b[1;33m:\u001b[0m\u001b[1;33m\u001b[0m\u001b[1;33m\u001b[0m\u001b[0m\n\u001b[1;32m--> 318\u001b[1;33m                 \u001b[0mout\u001b[0m \u001b[1;33m=\u001b[0m \u001b[0mfunction\u001b[0m\u001b[1;33m(\u001b[0m\u001b[1;33m*\u001b[0m\u001b[0margs\u001b[0m\u001b[1;33m,\u001b[0m \u001b[1;33m**\u001b[0m\u001b[0mkwargs\u001b[0m\u001b[1;33m)\u001b[0m\u001b[1;33m\u001b[0m\u001b[1;33m\u001b[0m\u001b[0m\n\u001b[0m\u001b[0;32m    319\u001b[0m \u001b[1;33m\u001b[0m\u001b[0m\n\u001b[0;32m    320\u001b[0m             \u001b[1;32mif\u001b[0m \u001b[0mverbose\u001b[0m\u001b[1;33m:\u001b[0m\u001b[1;33m\u001b[0m\u001b[1;33m\u001b[0m\u001b[0m\n",
            "\u001b[1;32m/usr/local/lib/python3.7/site-packages/clu/importing.py\u001b[0m in \u001b[0;36mtest_three_point_five\u001b[1;34m()\u001b[0m\n\u001b[0;32m   1092\u001b[0m         \u001b[0mfinder\u001b[0m \u001b[1;33m=\u001b[0m \u001b[0mFinder\u001b[0m\u001b[1;33m(\u001b[0m\u001b[1;33m)\u001b[0m\u001b[1;33m\u001b[0m\u001b[1;33m\u001b[0m\u001b[0m\n\u001b[0;32m   1093\u001b[0m         \u001b[1;32massert\u001b[0m \u001b[0mtype\u001b[0m\u001b[1;33m(\u001b[0m\u001b[0mfinder\u001b[0m\u001b[1;33m.\u001b[0m\u001b[0mloader\u001b[0m\u001b[1;33m)\u001b[0m \u001b[1;32mis\u001b[0m \u001b[0mLoader\u001b[0m\u001b[1;33m\u001b[0m\u001b[1;33m\u001b[0m\u001b[0m\n\u001b[1;32m-> 1094\u001b[1;33m         \u001b[1;32massert\u001b[0m \u001b[0mtype\u001b[0m\u001b[1;33m(\u001b[0m\u001b[0mfinder\u001b[0m\u001b[1;33m)\u001b[0m \u001b[1;32min\u001b[0m \u001b[0msys\u001b[0m\u001b[1;33m.\u001b[0m\u001b[0mmeta_path\u001b[0m\u001b[1;33m\u001b[0m\u001b[1;33m\u001b[0m\u001b[0m\n\u001b[0m\u001b[0;32m   1095\u001b[0m \u001b[1;33m\u001b[0m\u001b[0m\n\u001b[0;32m   1096\u001b[0m         \u001b[1;32mclass\u001b[0m \u001b[0mFindMe\u001b[0m\u001b[1;33m(\u001b[0m\u001b[0mModule\u001b[0m\u001b[1;33m)\u001b[0m\u001b[1;33m:\u001b[0m\u001b[1;33m\u001b[0m\u001b[1;33m\u001b[0m\u001b[0m\n",
            "\u001b[1;31mAssertionError\u001b[0m: "
          ]
        }
      ],
      "execution_count": 17,
      "metadata": {
        "collapsed": false,
        "jupyter": {
          "source_hidden": false,
          "outputs_hidden": false
        },
        "nteract": {
          "transient": {
            "deleting": false
          }
        }
      }
    },
    {
      "cell_type": "code",
      "source": [
        "runpy.run_path('/Users/fish/Dropbox/CLU/clu/clu/importing.py', init_globals=globals(), run_name=\"clu.importing\")['test']()"
      ],
      "outputs": [
        {
          "output_type": "stream",
          "name": "stdout",
          "text": [
            "\n",
            "§ RUNNING PRE-CHECK #1: `show_python_executable(¬)` – “Show the Python executable”\n",
            "----------------------------------------------------------------------------------------------------\n",
            "\n",
            "PYTHON: /usr/local/opt/python/bin/python3.7\n",
            "\n",
            "~~~~~~~~~~~~~~~~~~~~~~~~~~~~~~~~~~~~~~~~~~~~~~~~~~~~~~~~~~~~~~~~~~~~~~~~~~~~~~~~~~~~~~~~~~~~~~~~~~~~\n",
            "→ Pre-check function “show_python_executable(¬)” ran in about a moment – 0.004s\n",
            "====================================================================================================\n",
            "\n",
            "§ RUNNING TEST #1: `test_one(¬)` – “Class-module basics”\n",
            "----------------------------------------------------------------------------------------------------\n",
            "\n",
            "~~~~~~~~~~~~~~~~~~~~~~~~~~~~~~~~~~~~~~~~~~~~~~~~~~~~~~~~~~~~~~~~~~~~~~~~~~~~~~~~~~~~~~~~~~~~~~~~~~~~\n",
            "→ Test function “test_one(¬)” ran in about a moment – 0.000s\n",
            "====================================================================================================\n",
            "\n",
            "§ RUNNING TEST #2: `test_two(¬)` – “Class-module subtype basics”\n",
            "----------------------------------------------------------------------------------------------------\n",
            "\n",
            "~~~~~~~~~~~~~~~~~~~~~~~~~~~~~~~~~~~~~~~~~~~~~~~~~~~~~~~~~~~~~~~~~~~~~~~~~~~~~~~~~~~~~~~~~~~~~~~~~~~~\n",
            "→ Test function “test_two(¬)” ran in about a moment – 0.001s\n",
            "====================================================================================================\n",
            "\n",
            "§ RUNNING TEST #3: `test_three(¬)` – “Class-module registry basics”\n",
            "----------------------------------------------------------------------------------------------------\n",
            "\n",
            "all_registered_appnames():\n",
            "('clu',)\n",
            "\n",
            "all_registered_modules():\n",
            "(<class-module “clu.app.Module”>,\n",
            " <class-module “clu.app.ProxyModule”>,\n",
            " <class-module “clu.app.DerivedModule”>)\n",
            "\n",
            "mro(m):\n",
            "(<class-module “clu.app.Module”>,\n",
            " <class-module “ModuleBase”>,\n",
            " <class 'clu.importing.Package'>,\n",
            " <class 'module'>,\n",
            " <class-module ancestor type “clu.importing.Registry”>,\n",
            " <class 'abc.ABC'>,\n",
            " <class 'object'>)\n",
            "\n",
            "~~~~~~~~~~~~~~~~~~~~~~~~~~~~~~~~~~~~~~~~~~~~~~~~~~~~~~~~~~~~~~~~~~~~~~~~~~~~~~~~~~~~~~~~~~~~~~~~~~~~\n",
            "→ Test function “test_three(¬)” ran in about a moment – 0.038s\n",
            "====================================================================================================\n",
            "\n",
            "§ RUNNING TEST #4: `test_three_point_five(¬)` – “System import hooks, specs and finders”\n",
            "----------------------------------------------------------------------------------------------------\n",
            "\n"
          ]
        },
        {
          "output_type": "error",
          "ename": "AssertionError",
          "evalue": "",
          "traceback": [
            "\u001b[1;31m---------------------------------------------------------------------------\u001b[0m",
            "\u001b[1;31mAssertionError\u001b[0m                            Traceback (most recent call last)",
            "\u001b[1;32m<ipython-input-19-5589eca476f4>\u001b[0m in \u001b[0;36m<module>\u001b[1;34m\u001b[0m\n\u001b[1;32m----> 1\u001b[1;33m \u001b[0mrunpy\u001b[0m\u001b[1;33m.\u001b[0m\u001b[0mrun_path\u001b[0m\u001b[1;33m(\u001b[0m\u001b[1;34m'/Users/fish/Dropbox/CLU/clu/clu/importing.py'\u001b[0m\u001b[1;33m,\u001b[0m \u001b[0minit_globals\u001b[0m\u001b[1;33m=\u001b[0m\u001b[0mglobals\u001b[0m\u001b[1;33m(\u001b[0m\u001b[1;33m)\u001b[0m\u001b[1;33m,\u001b[0m \u001b[0mrun_name\u001b[0m\u001b[1;33m=\u001b[0m\u001b[1;34m\"clu.importing\"\u001b[0m\u001b[1;33m)\u001b[0m\u001b[1;33m[\u001b[0m\u001b[1;34m'test'\u001b[0m\u001b[1;33m]\u001b[0m\u001b[1;33m(\u001b[0m\u001b[1;33m)\u001b[0m\u001b[1;33m\u001b[0m\u001b[1;33m\u001b[0m\u001b[0m\n\u001b[0m",
            "\u001b[1;32m~/Dropbox/CLU/clu/clu/importing.py\u001b[0m in \u001b[0;36mtest\u001b[1;34m()\u001b[0m\n\u001b[0;32m   1313\u001b[0m \u001b[1;33m\u001b[0m\u001b[0m\n\u001b[0;32m   1314\u001b[0m     \u001b[1;31m# Run all tests:\u001b[0m\u001b[1;33m\u001b[0m\u001b[1;33m\u001b[0m\u001b[1;33m\u001b[0m\u001b[0m\n\u001b[1;32m-> 1315\u001b[1;33m     \u001b[1;32mreturn\u001b[0m \u001b[0minline\u001b[0m\u001b[1;33m.\u001b[0m\u001b[0mtest\u001b[0m\u001b[1;33m(\u001b[0m\u001b[1;36m100\u001b[0m\u001b[1;33m)\u001b[0m\u001b[1;33m\u001b[0m\u001b[1;33m\u001b[0m\u001b[0m\n\u001b[0m\u001b[0;32m   1316\u001b[0m \u001b[1;33m\u001b[0m\u001b[0m\n\u001b[0;32m   1317\u001b[0m \u001b[1;32mif\u001b[0m \u001b[0m__name__\u001b[0m \u001b[1;33m==\u001b[0m \u001b[1;34m'__main__'\u001b[0m\u001b[1;33m:\u001b[0m\u001b[1;33m\u001b[0m\u001b[1;33m\u001b[0m\u001b[0m\n",
            "\u001b[1;32m/usr/local/lib/python3.7/site-packages/clu/testing/utils.py\u001b[0m in \u001b[0;36mtest\u001b[1;34m(self, exec_count, *args, **kwargs)\u001b[0m\n\u001b[0;32m    494\u001b[0m                 \u001b[1;31m# Call testing functions once, initially:\u001b[0m\u001b[1;33m\u001b[0m\u001b[1;33m\u001b[0m\u001b[1;33m\u001b[0m\u001b[0m\n\u001b[0;32m    495\u001b[0m                 \u001b[1;32mfor\u001b[0m \u001b[0midx\u001b[0m\u001b[1;33m,\u001b[0m \u001b[0mfunction\u001b[0m \u001b[1;32min\u001b[0m \u001b[0menumerate\u001b[0m\u001b[1;33m(\u001b[0m\u001b[0mself\u001b[0m\u001b[1;33m.\u001b[0m\u001b[0mtest_functions\u001b[0m\u001b[1;33m)\u001b[0m\u001b[1;33m:\u001b[0m\u001b[1;33m\u001b[0m\u001b[1;33m\u001b[0m\u001b[0m\n\u001b[1;32m--> 496\u001b[1;33m                     \u001b[0mfunction\u001b[0m\u001b[1;33m(\u001b[0m\u001b[1;33m*\u001b[0m\u001b[0margs\u001b[0m\u001b[1;33m,\u001b[0m \u001b[0mverbose\u001b[0m\u001b[1;33m=\u001b[0m\u001b[0mverbosity\u001b[0m\u001b[1;33m,\u001b[0m \u001b[0midx\u001b[0m\u001b[1;33m=\u001b[0m\u001b[0midx\u001b[0m\u001b[1;33m,\u001b[0m \u001b[0mmax\u001b[0m\u001b[1;33m=\u001b[0m\u001b[0mmost\u001b[0m\u001b[1;33m)\u001b[0m\u001b[1;33m\u001b[0m\u001b[1;33m\u001b[0m\u001b[0m\n\u001b[0m\u001b[0;32m    497\u001b[0m \u001b[1;33m\u001b[0m\u001b[0m\n\u001b[0;32m    498\u001b[0m                 \u001b[1;31m# Call them twice through «adnauseumn» –\u001b[0m\u001b[1;33m\u001b[0m\u001b[1;33m\u001b[0m\u001b[1;33m\u001b[0m\u001b[0m\n",
            "\u001b[1;32m/usr/local/lib/python3.7/site-packages/clu/testing/utils.py\u001b[0m in \u001b[0;36mwrapper\u001b[1;34m(*args, **kwargs)\u001b[0m\n\u001b[0;32m    316\u001b[0m             \u001b[0mlabel_timer\u001b[0m \u001b[1;33m=\u001b[0m \u001b[1;34mf\"{label_idx} – {name}\"\u001b[0m\u001b[1;33m\u001b[0m\u001b[1;33m\u001b[0m\u001b[0m\n\u001b[0;32m    317\u001b[0m             \u001b[1;32mwith\u001b[0m \u001b[0mwatch\u001b[0m\u001b[1;33m.\u001b[0m\u001b[0mtimer\u001b[0m\u001b[1;33m(\u001b[0m\u001b[0mlabel_timer\u001b[0m\u001b[1;33m,\u001b[0m \u001b[0mbucket\u001b[0m\u001b[1;33m=\u001b[0m\u001b[0mbucket\u001b[0m\u001b[1;33m)\u001b[0m\u001b[1;33m:\u001b[0m\u001b[1;33m\u001b[0m\u001b[1;33m\u001b[0m\u001b[0m\n\u001b[1;32m--> 318\u001b[1;33m                 \u001b[0mout\u001b[0m \u001b[1;33m=\u001b[0m \u001b[0mfunction\u001b[0m\u001b[1;33m(\u001b[0m\u001b[1;33m*\u001b[0m\u001b[0margs\u001b[0m\u001b[1;33m,\u001b[0m \u001b[1;33m**\u001b[0m\u001b[0mkwargs\u001b[0m\u001b[1;33m)\u001b[0m\u001b[1;33m\u001b[0m\u001b[1;33m\u001b[0m\u001b[0m\n\u001b[0m\u001b[0;32m    319\u001b[0m \u001b[1;33m\u001b[0m\u001b[0m\n\u001b[0;32m    320\u001b[0m             \u001b[1;32mif\u001b[0m \u001b[0mverbose\u001b[0m\u001b[1;33m:\u001b[0m\u001b[1;33m\u001b[0m\u001b[1;33m\u001b[0m\u001b[0m\n",
            "\u001b[1;32m~/Dropbox/CLU/clu/clu/importing.py\u001b[0m in \u001b[0;36mtest_three_point_five\u001b[1;34m()\u001b[0m\n\u001b[0;32m   1092\u001b[0m         \u001b[0mfinder\u001b[0m \u001b[1;33m=\u001b[0m \u001b[0mFinder\u001b[0m\u001b[1;33m(\u001b[0m\u001b[1;33m)\u001b[0m\u001b[1;33m\u001b[0m\u001b[1;33m\u001b[0m\u001b[0m\n\u001b[0;32m   1093\u001b[0m         \u001b[1;32massert\u001b[0m \u001b[0mtype\u001b[0m\u001b[1;33m(\u001b[0m\u001b[0mfinder\u001b[0m\u001b[1;33m.\u001b[0m\u001b[0mloader\u001b[0m\u001b[1;33m)\u001b[0m \u001b[1;32mis\u001b[0m \u001b[0mLoader\u001b[0m\u001b[1;33m\u001b[0m\u001b[1;33m\u001b[0m\u001b[0m\n\u001b[1;32m-> 1094\u001b[1;33m         \u001b[1;32massert\u001b[0m \u001b[0mtype\u001b[0m\u001b[1;33m(\u001b[0m\u001b[0mfinder\u001b[0m\u001b[1;33m)\u001b[0m \u001b[1;32min\u001b[0m \u001b[0msys\u001b[0m\u001b[1;33m.\u001b[0m\u001b[0mmeta_path\u001b[0m\u001b[1;33m\u001b[0m\u001b[1;33m\u001b[0m\u001b[0m\n\u001b[0m\u001b[0;32m   1095\u001b[0m \u001b[1;33m\u001b[0m\u001b[0m\n\u001b[0;32m   1096\u001b[0m         \u001b[1;32mclass\u001b[0m \u001b[0mFindMe\u001b[0m\u001b[1;33m(\u001b[0m\u001b[0mModule\u001b[0m\u001b[1;33m)\u001b[0m\u001b[1;33m:\u001b[0m\u001b[1;33m\u001b[0m\u001b[1;33m\u001b[0m\u001b[0m\n",
            "\u001b[1;31mAssertionError\u001b[0m: "
          ]
        }
      ],
      "execution_count": 19,
      "metadata": {
        "collapsed": false,
        "jupyter": {
          "source_hidden": false,
          "outputs_hidden": false
        },
        "nteract": {
          "transient": {
            "deleting": false
          }
        }
      }
    },
    {
      "cell_type": "code",
      "source": [
        "sys.meta_path"
      ],
      "outputs": [
        {
          "output_type": "execute_result",
          "execution_count": 20,
          "data": {
            "text/plain": [
              "[_frozen_importlib.BuiltinImporter,\n",
              " _frozen_importlib.FrozenImporter,\n",
              " _frozen_importlib_external.PathFinder,\n",
              " <six._SixMetaPathImporter at 0x10858a7d0>,\n",
              " <pkg_resources.extern.VendorImporter at 0x10ac572d0>,\n",
              " <pkg_resources._vendor.six._SixMetaPathImporter at 0x10ac7cf10>,\n",
              " <importlib_metadata.MetadataPathFinder at 0x113ecf290>,\n",
              " <class “clu.importing.Finder” from “clu”>]"
            ]
          },
          "metadata": {}
        }
      ],
      "execution_count": 20,
      "metadata": {
        "collapsed": false,
        "jupyter": {
          "source_hidden": false,
          "outputs_hidden": false
        },
        "nteract": {
          "transient": {
            "deleting": false
          }
        }
      }
    },
    {
      "cell_type": "code",
      "source": [
        "clu.version_info"
      ],
      "outputs": [
        {
          "output_type": "execute_result",
          "execution_count": 21,
          "data": {
            "text/plain": [
              "VersionInfo(major=0, minor=6, patch=3, pre=None, build=None)"
            ]
          },
          "metadata": {}
        }
      ],
      "execution_count": 21,
      "metadata": {
        "collapsed": false,
        "jupyter": {
          "source_hidden": false,
          "outputs_hidden": false
        },
        "nteract": {
          "transient": {
            "deleting": false
          }
        }
      }
    }
  ],
  "metadata": {
    "kernel_info": {
      "name": "python3"
    },
    "language_info": {
      "name": "python",
      "version": "3.7.6",
      "mimetype": "text/x-python",
      "codemirror_mode": {
        "name": "ipython",
        "version": 3
      },
      "pygments_lexer": "ipython3",
      "nbconvert_exporter": "python",
      "file_extension": ".py"
    },
    "kernelspec": {
      "argv": [
        "python",
        "-m",
        "ipykernel_launcher",
        "-f",
        "{connection_file}"
      ],
      "display_name": "Python 3",
      "language": "python",
      "name": "python3"
    }
  },
  "nbformat": 4,
  "nbformat_minor": 0
}